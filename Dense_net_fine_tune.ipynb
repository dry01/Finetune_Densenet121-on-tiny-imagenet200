{
  "nbformat": 4,
  "nbformat_minor": 0,
  "metadata": {
    "colab": {
      "name": "Dense net fine tune.ipynb",
      "provenance": [],
      "collapsed_sections": [],
      "machine_shape": "hm"
    },
    "kernelspec": {
      "name": "python3",
      "display_name": "Python 3"
    },
    "accelerator": "GPU"
  },
  "cells": [
    {
      "cell_type": "markdown",
      "metadata": {
        "id": "rOG_lRS9cdyB"
      },
      "source": [
        "downloding the data (tiny imagenet-200)"
      ]
    },
    {
      "cell_type": "code",
      "metadata": {
        "colab": {
          "base_uri": "https://localhost:8080/"
        },
        "id": "TTMe7W6Mh8n2",
        "outputId": "165b4957-c6b6-44fa-f545-f77ee3522eeb"
      },
      "source": [
        "!wget http://cs231n.stanford.edu/tiny-imagenet-200.zip\n",
        "!unzip -qq 'tiny-imagenet-200.zip'"
      ],
      "execution_count": 1,
      "outputs": [
        {
          "output_type": "stream",
          "text": [
            "--2021-01-29 19:02:04--  http://cs231n.stanford.edu/tiny-imagenet-200.zip\n",
            "Resolving cs231n.stanford.edu (cs231n.stanford.edu)... 171.64.68.10\n",
            "Connecting to cs231n.stanford.edu (cs231n.stanford.edu)|171.64.68.10|:80... connected.\n",
            "HTTP request sent, awaiting response... 200 OK\n",
            "Length: 248100043 (237M) [application/zip]\n",
            "Saving to: ‘tiny-imagenet-200.zip’\n",
            "\n",
            "tiny-imagenet-200.z 100%[===================>] 236.61M  38.1MB/s    in 7.8s    \n",
            "\n",
            "2021-01-29 19:02:12 (30.2 MB/s) - ‘tiny-imagenet-200.zip’ saved [248100043/248100043]\n",
            "\n"
          ],
          "name": "stdout"
        }
      ]
    },
    {
      "cell_type": "markdown",
      "metadata": {
        "id": "YbE3T_64hg8i"
      },
      "source": [
        "# data preprocessing part \n"
      ]
    },
    {
      "cell_type": "code",
      "metadata": {
        "id": "S14ibbM0iAp3"
      },
      "source": [
        "import torch, os\n",
        "import torch.nn as nn\n",
        "import torch.optim as optim\n",
        "import torchvision.datasets as datasets\n",
        "import torch.utils.data as data\n",
        "import torchvision.transforms as transforms\n",
        "import torchvision.models as models\n",
        "import copy"
      ],
      "execution_count": 2,
      "outputs": []
    },
    {
      "cell_type": "code",
      "metadata": {
        "id": "BOssFKnRiQzQ"
      },
      "source": [
        "import io\n",
        "import glob\n",
        "import os\n",
        "from shutil import move\n",
        "from os.path import join\n",
        "from os import listdir, rmdir\n",
        "# directory given for the valid data\n",
        "valid_data = '/content/tiny-imagenet-200/valid1/' \n",
        "\n",
        "os.mkdir(valid_data)\n",
        "# directory given for the tset data\n",
        "test_data   = '/content/tiny-imagenet-200/test1/' \n",
        "os.mkdir(test_data)\n",
        "# directory created for the annotation of the valid data\n",
        "anno_dict = {}\n",
        "with open('/content/tiny-imagenet-200/val/val_annotations.txt', 'r') as f:  #val_annottations files contain information about [image_number Its_class] in every line\n",
        "    for line in f.readlines():                                       #reading line by line , split_line[0] is image number and split_line[1] is its class\n",
        "        split_line = line.split('\\t')\n",
        "        anno_dict[split_line[0]] = split_line[1]                      #storing them in val_dict  \n",
        "        \n",
        "# making folders for the corresponding class stored in the dictionary val_dict\n",
        "val_data = glob.glob('/content/tiny-imagenet-200/val/images/*')\n",
        "for path in val_data:\n",
        "    file = path.split('/')[-1]\n",
        "    folder = anno_dict[file]\n",
        "    if not os.path.exists(valid_data + str(folder)):\n",
        "        os.mkdir(valid_data + str(folder))\n",
        "        os.mkdir(valid_data + str(folder) + '/images')\n",
        "    if not os.path.exists(test_data + str(folder)):\n",
        "        os.mkdir(test_data + str(folder))\n",
        "        os.mkdir(test_data + str(folder) + '/images')\n",
        "        \n",
        "#moving images to target and test folder        \n",
        "for path in val_data:\n",
        "    file = path.split('/')[-1]\n",
        "    folder = anno_dict[file]\n",
        "    if len(glob.glob(valid_data + str(folder) + '/images/*')) <25:\n",
        "        dest = valid_data + str(folder) + '/images/' + str(file)\n",
        "    else:\n",
        "        dest = test_data + str(folder) + '/images/' + str(file)\n",
        "    move(path, dest)\n",
        "    \n",
        "#rmdir('./tiny-imagenet-200/val/images')"
      ],
      "execution_count": 4,
      "outputs": []
    },
    {
      "cell_type": "code",
      "metadata": {
        "id": "FjdLZwy6ic9P"
      },
      "source": [
        "#normalise and resize the data for the densenet121\n",
        "normalize = transforms.Normalize(mean = [0.485,0.456,0.406], std= [0.229,0.224,0.225]) \n",
        "resize = transforms.Resize((224,224)) "
      ],
      "execution_count": 3,
      "outputs": []
    },
    {
      "cell_type": "code",
      "metadata": {
        "id": "Pg39Xwdchdl7"
      },
      "source": [
        "# now transform the tiny image datasets in given form\n",
        "data_dir = 'tiny-imagenet-200/'\n",
        "num_workers = {'train' : 100,'valid1'   : 0,'test1'  : 0}\n",
        "data_transforms = {\n",
        "    'train': transforms.Compose([resize,\n",
        "        transforms.ToTensor(),normalize\n",
        "    ]),\n",
        "    'valid1': transforms.Compose([resize,\n",
        "        transforms.ToTensor(),normalize\n",
        "    ]),\n",
        "    'test1': transforms.Compose([resize,\n",
        "        transforms.ToTensor(),normalize\n",
        "    ])\n",
        "}"
      ],
      "execution_count": 4,
      "outputs": []
    },
    {
      "cell_type": "code",
      "metadata": {
        "id": "9dopXUqlimNc"
      },
      "source": [
        "#genrate the data loader to give data to the model\n",
        "\n",
        "image_datasets = {x: datasets.ImageFolder(os.path.join(data_dir, x), data_transforms[x]) \n",
        "                  for x in ['train', 'valid1','test1']}\n",
        "dataloaders = {x: data.DataLoader(image_datasets[x], batch_size=100, shuffle=True, num_workers=num_workers[x])\n",
        "                  for x in ['train', 'valid1', 'test1']}\n",
        "dataset_sizes = {x: len(image_datasets[x]) for x in ['train', 'valid1', 'test1']}"
      ],
      "execution_count": 5,
      "outputs": []
    },
    {
      "cell_type": "markdown",
      "metadata": {
        "id": "J3upsNrMiWv2"
      },
      "source": [
        "above form i took from this article\n",
        "https://medium.com/@lokeshpara17/tiny-imagenet-using-pytorch-42a3f2ee3c9d\n"
      ]
    },
    {
      "cell_type": "code",
      "metadata": {
        "id": "g2-Px1wQip9X"
      },
      "source": [
        "# download the pretrained model and change in last layer and containing other layer weight fixed\n",
        "\n",
        "model = models.densenet121(pretrained=True)\n",
        "\n",
        "for parameters in model.parameters():\n",
        "  parameters.require_grad = False\n",
        "\n",
        "# now removing the last layer and replacing it with output  = 200 class\n",
        "n_classes = 200\n",
        "last_layer = model.classifier.in_features \n",
        "model.classifier = nn.Linear(last_layer, n_classes)"
      ],
      "execution_count": 24,
      "outputs": []
    },
    {
      "cell_type": "code",
      "metadata": {
        "id": "Ua29C6i1itwI"
      },
      "source": [
        "device = torch.device('cuda:0')\n",
        "model = model.to(device)"
      ],
      "execution_count": 25,
      "outputs": []
    },
    {
      "cell_type": "code",
      "metadata": {
        "id": "s_KvBsVtixcp"
      },
      "source": [
        "param_s = []\n",
        "for _ , parameter in model.named_parameters():\n",
        "  param_s.append(parameter)"
      ],
      "execution_count": 26,
      "outputs": []
    },
    {
      "cell_type": "markdown",
      "metadata": {
        "id": "RLKWYbd6kaBg"
      },
      "source": [
        "loss cross entropy"
      ]
    },
    {
      "cell_type": "code",
      "metadata": {
        "id": "QKU3CHrwi0nL"
      },
      "source": [
        "optimizer = optim.SGD(param_s, lr = 0.0001, momentum = 0.9) #learning rate = 0.001 and momentum = 0.9\n",
        "#optimizer = optim.Adam(param_s,lr=0.001)\n",
        "criterion =  nn.CrossEntropyLoss()"
      ],
      "execution_count": 27,
      "outputs": []
    },
    {
      "cell_type": "code",
      "metadata": {
        "id": "C-Q8jXvoi4rZ"
      },
      "source": [
        "import time\n",
        "import matplotlib.pyplot as plt\n",
        "\n",
        "def train_val_model(model,dataloaders,criterion,optimizer_ft,num_epochs=5):\n",
        "  \n",
        "  \n",
        "  training_loss = []\n",
        "  training_accuracy = []\n",
        "  validation_loss = []\n",
        "  validation_accuracy = []\n",
        "\n",
        "  for epoch in range(num_epochs):\n",
        "    \n",
        "    \n",
        "    print('Epoch {}/{}'.format(epoch+1,num_epochs))\n",
        "    \n",
        "    \n",
        "    for phase in ['train','valid1']:\n",
        "      if phase == 'train':\n",
        "        \n",
        "        \n",
        "        model.train()\n",
        "      else:\n",
        "        \n",
        "        model.train(False)\n",
        "      \n",
        "      running_loss = 0.0\n",
        "      running_corrects = 0\n",
        "\n",
        "      \n",
        "\n",
        "      for inputs, labels in dataloaders[phase]:\n",
        "        inputs = inputs.to(device)\n",
        "        labels = labels.to(device)\n",
        "\n",
        "        \n",
        "        optimizer_ft.zero_grad()\n",
        "\n",
        "        with torch.set_grad_enabled(phase =='train'):\n",
        "          outputs = model(inputs)\n",
        "          loss = criterion(outputs,labels)\n",
        "          _, preds = torch.max(outputs,1)\n",
        "\n",
        "          \n",
        "          if phase =='train':\n",
        "            loss.backward()\n",
        "            optimizer_ft.step()\n",
        "        running_loss += loss.item() * inputs.size(0)\n",
        "        running_corrects += torch.sum(preds == labels.data)\n",
        "\n",
        "      epoch_loss = running_loss / len(dataloaders[phase].dataset)\n",
        "      epoch_acc = running_corrects.double() / len(dataloaders[phase].dataset) \n",
        "      print('{} Loss: {:.4f} Acc: {:.4f}'.format(phase, epoch_loss, epoch_acc))\n",
        "      if phase=='train':\n",
        "        training_loss.append(epoch_loss)\n",
        "        training_accuracy.append(epoch_acc)\n",
        "      else:\n",
        "        validation_loss.append(epoch_loss)\n",
        "        validation_accuracy.append(epoch_acc)  \n",
        "      \n",
        "      \n",
        "      \n",
        "  \n",
        "\n",
        "  return model,training_loss,training_accuracy,validation_loss,validation_accuracy    \n"
      ],
      "execution_count": 28,
      "outputs": []
    },
    {
      "cell_type": "code",
      "metadata": {
        "colab": {
          "base_uri": "https://localhost:8080/"
        },
        "id": "-kgjygIZi96D",
        "outputId": "d5f4d799-0d46-4dad-8632-d3d185c99e61"
      },
      "source": [
        " model,training_loss,training_accuracy,validation_loss,validation_accuracy= train_val_model(model,dataloaders,criterion,optimizer,10)"
      ],
      "execution_count": 29,
      "outputs": [
        {
          "output_type": "stream",
          "text": [
            "Epoch 1/10\n",
            "train Loss: 5.1917 Acc: 0.0242\n",
            "valid1 Loss: 4.9563 Acc: 0.0804\n",
            "Epoch 2/10\n",
            "train Loss: 4.6802 Acc: 0.1585\n",
            "valid1 Loss: 4.3346 Acc: 0.2508\n",
            "Epoch 3/10\n",
            "train Loss: 4.0033 Acc: 0.3155\n",
            "valid1 Loss: 3.6223 Acc: 0.3690\n",
            "Epoch 4/10\n",
            "train Loss: 3.3810 Acc: 0.4213\n",
            "valid1 Loss: 3.0713 Acc: 0.4598\n",
            "Epoch 5/10\n",
            "train Loss: 2.8990 Acc: 0.4936\n",
            "valid1 Loss: 2.6522 Acc: 0.5208\n",
            "Epoch 6/10\n",
            "train Loss: 2.5369 Acc: 0.5425\n",
            "valid1 Loss: 2.3488 Acc: 0.5628\n",
            "Epoch 7/10\n",
            "train Loss: 2.2579 Acc: 0.5820\n",
            "valid1 Loss: 2.1020 Acc: 0.5924\n",
            "Epoch 8/10\n",
            "train Loss: 2.0388 Acc: 0.6092\n",
            "valid1 Loss: 1.9215 Acc: 0.6138\n",
            "Epoch 9/10\n",
            "train Loss: 1.8653 Acc: 0.6316\n",
            "valid1 Loss: 1.7756 Acc: 0.6366\n",
            "Epoch 10/10\n",
            "train Loss: 1.7252 Acc: 0.6507\n",
            "valid1 Loss: 1.6681 Acc: 0.6504\n"
          ],
          "name": "stdout"
        }
      ]
    },
    {
      "cell_type": "code",
      "metadata": {
        "colab": {
          "base_uri": "https://localhost:8080/",
          "height": 282
        },
        "id": "p3J1YM8xxDUp",
        "outputId": "2be26d44-d07b-4cec-d388-f343fc267d9e"
      },
      "source": [
        "plt.plot (training_loss)\n",
        "plt.plot (validation_loss)"
      ],
      "execution_count": 30,
      "outputs": [
        {
          "output_type": "execute_result",
          "data": {
            "text/plain": [
              "[<matplotlib.lines.Line2D at 0x7fbc6ef588d0>]"
            ]
          },
          "metadata": {
            "tags": []
          },
          "execution_count": 30
        },
        {
          "output_type": "display_data",
          "data": {
            "image/png": "[encoded data removed]",
            "text/plain": [
              "<Figure size 432x288 with 1 Axes>"
            ]
          },
          "metadata": {
            "tags": [],
            "needs_background": "light"
          }
        }
      ]
    },
    {
      "cell_type": "markdown",
      "metadata": {
        "id": "DjzEPLFNccsU"
      },
      "source": [
        ""
      ]
    },
    {
      "cell_type": "code",
      "metadata": {
        "colab": {
          "base_uri": "https://localhost:8080/",
          "height": 282
        },
        "id": "3SO5Ry19xlQ4",
        "outputId": "a05542ff-01d6-4c19-db76-605b9e56688e"
      },
      "source": [
        "plt.plot(training_accuracy)\n",
        "plt.plot(validation_accuracy)"
      ],
      "execution_count": 31,
      "outputs": [
        {
          "output_type": "execute_result",
          "data": {
            "text/plain": [
              "[<matplotlib.lines.Line2D at 0x7fbbfe5ddcf8>]"
            ]
          },
          "metadata": {
            "tags": []
          },
          "execution_count": 31
        },
        {
          "output_type": "display_data",
          "data": {
            "image/png": "[encoded data removed]",
            "text/plain": [
              "<Figure size 432x288 with 1 Axes>"
            ]
          },
          "metadata": {
            "tags": [],
            "needs_background": "light"
          }
        }
      ]
    },
    {
      "cell_type": "code",
      "metadata": {
        "id": "YaLjeSkHz4I_"
      },
      "source": [
        "criterion = nn.CrossEntropyLoss()"
      ],
      "execution_count": 32,
      "outputs": []
    },
    {
      "cell_type": "code",
      "metadata": {
        "colab": {
          "base_uri": "https://localhost:8080/"
        },
        "id": "F7Hggbj6z28s",
        "outputId": "9ac50071-a9c8-4ae0-d4ed-afe607957749"
      },
      "source": [
        "predicted = []\n",
        "total_correct = 0\n",
        "total_images = 0\n",
        "confusion_mat = np.zeros([200,200],int)              #inintializing the confusion matrix\n",
        "with torch.no_grad():\n",
        "    for inputs,labels in dataloaders['test1']:\n",
        "      inputs = inputs.to(device)\n",
        "      labels = labels.to(device)\n",
        "      outputs  = model(inputs)\n",
        "      loss = criterion(outputs,labels)\n",
        "      _,predicted = torch.max(outputs,1)\n",
        "\n",
        "      total_images += labels.size(0)\n",
        "      total_correct += (predicted == labels).sum().item()\n",
        "      for i, l in enumerate(labels):\n",
        "        confusion_mat[l.item(), predicted[i].item()] += 1          # Row = actual class , COl = predicted class                      \n",
        "\n",
        "model_accuracy = total_correct / total_images * 100\n",
        "print('Model accuracy on {0} test images: {1:.2f}%'.format(total_images, model_accuracy))"
      ],
      "execution_count": 33,
      "outputs": [
        {
          "output_type": "stream",
          "text": [
            "Model accuracy on 5000 test images: 65.72%\n"
          ],
          "name": "stdout"
        }
      ]
    },
    {
      "cell_type": "code",
      "metadata": {
        "colab": {
          "base_uri": "https://localhost:8080/"
        },
        "id": "VXMZWEQG0Ipj",
        "outputId": "dda5bbc2-b530-4562-942c-d0de747e2cac"
      },
      "source": [
        "cross_metric = metric(confusion_mat)\n",
        "print(cross_metric)"
      ],
      "execution_count": 34,
      "outputs": [
        {
          "output_type": "stream",
          "text": [
            "(0.6605422368823348, 0.6639186418911577)\n"
          ],
          "name": "stdout"
        }
      ]
    },
    {
      "cell_type": "markdown",
      "metadata": {
        "id": "wOTjIGtDkhjk"
      },
      "source": [
        "loss focal loss\n"
      ]
    },
    {
      "cell_type": "code",
      "metadata": {
        "id": "rOdWp7HGx6Zt"
      },
      "source": [
        "# code for the focal loss as it in not available in pytorch\n",
        "import torch\n",
        "import torch.nn as nn\n",
        "import torch.nn.functional as F\n",
        "from torch.autograd import Variable\n",
        "\n",
        "class FocalLoss(nn.Module):\n",
        "    def __init__(self, gamma=0, alpha=None, size_average=True):\n",
        "        super(FocalLoss, self).__init__()\n",
        "        self.gamma = gamma\n",
        "        self.alpha = alpha\n",
        "        if isinstance(alpha,(float,int)): self.alpha = torch.Tensor([alpha,1-alpha])\n",
        "        if isinstance(alpha,list): self.alpha = torch.Tensor(alpha)\n",
        "        self.size_average = size_average\n",
        "\n",
        "    def forward(self, input, target):\n",
        "        if input.dim()>2:\n",
        "            input = input.view(input.size(0),input.size(1),-1)  # N,C,H,W => N,C,H*W\n",
        "            input = input.transpose(1,2)    # N,C,H*W => N,H*W,C\n",
        "            input = input.contiguous().view(-1,input.size(2))   # N,H*W,C => N*H*W,C\n",
        "        target = target.view(-1,1)\n",
        "\n",
        "        logpt = F.log_softmax(input)\n",
        "        logpt = logpt.gather(1,target)\n",
        "        logpt = logpt.view(-1)\n",
        "        pt = Variable(logpt.data.exp())\n",
        "\n",
        "        if self.alpha is not None:\n",
        "            if self.alpha.type()!=input.data.type():\n",
        "                self.alpha = self.alpha.type_as(input.data)\n",
        "            at = self.alpha.gather(0,target.data.view(-1))\n",
        "            logpt = logpt * Variable(at)\n",
        "\n",
        "        loss = -1 * (1-pt)**self.gamma * logpt\n",
        "        if self.size_average: return loss.mean()\n",
        "        else: return loss.sum()"
      ],
      "execution_count": 10,
      "outputs": []
    },
    {
      "cell_type": "code",
      "metadata": {
        "id": "LpmM8ZGFlQiF"
      },
      "source": [
        "criterion = FocalLoss()"
      ],
      "execution_count": 11,
      "outputs": []
    },
    {
      "cell_type": "code",
      "metadata": {
        "colab": {
          "base_uri": "https://localhost:8080/"
        },
        "id": "pqF3QMf-lQxs",
        "outputId": "736d82e3-d76b-4552-8f55-67ce73062487"
      },
      "source": [
        "model,training_loss1,training_accuracy1,validation_loss1,validation_accuracy1= train_val_model(model,dataloaders,criterion,optimizer,num_epochs=10)"
      ],
      "execution_count": 15,
      "outputs": [
        {
          "output_type": "stream",
          "text": [
            "Epoch 1/10\n"
          ],
          "name": "stdout"
        },
        {
          "output_type": "stream",
          "text": [
            "/usr/local/lib/python3.6/dist-packages/ipykernel_launcher.py:23: UserWarning: Implicit dimension choice for log_softmax has been deprecated. Change the call to include dim=X as an argument.\n"
          ],
          "name": "stderr"
        },
        {
          "output_type": "stream",
          "text": [
            "train Loss: 1.6042 Acc: 0.6691\n",
            "valid1 Loss: 1.5607 Acc: 0.6638\n",
            "Epoch 2/10\n",
            "train Loss: 1.5047 Acc: 0.6830\n",
            "valid1 Loss: 1.4839 Acc: 0.6722\n",
            "Epoch 3/10\n",
            "train Loss: 1.4225 Acc: 0.6961\n",
            "valid1 Loss: 1.4260 Acc: 0.6832\n",
            "Epoch 4/10\n",
            "train Loss: 1.3473 Acc: 0.7081\n",
            "valid1 Loss: 1.3713 Acc: 0.6896\n",
            "Epoch 5/10\n",
            "train Loss: 1.2839 Acc: 0.7178\n",
            "valid1 Loss: 1.3238 Acc: 0.6978\n",
            "Epoch 6/10\n",
            "train Loss: 1.2240 Acc: 0.7289\n",
            "valid1 Loss: 1.2816 Acc: 0.7032\n",
            "Epoch 7/10\n",
            "train Loss: 1.1721 Acc: 0.7373\n",
            "valid1 Loss: 1.2447 Acc: 0.7082\n",
            "Epoch 8/10\n",
            "train Loss: 1.1235 Acc: 0.7459\n",
            "valid1 Loss: 1.2184 Acc: 0.7148\n",
            "Epoch 9/10\n",
            "train Loss: 1.0802 Acc: 0.7551\n",
            "valid1 Loss: 1.1903 Acc: 0.7196\n",
            "Epoch 10/10\n",
            "train Loss: 1.0389 Acc: 0.7626\n",
            "valid1 Loss: 1.1649 Acc: 0.7196\n"
          ],
          "name": "stdout"
        }
      ]
    },
    {
      "cell_type": "code",
      "metadata": {
        "colab": {
          "base_uri": "https://localhost:8080/",
          "height": 282
        },
        "id": "5VXlciYkmY2i",
        "outputId": "5bd09ca1-ef61-4182-a15a-e55cb16fc130"
      },
      "source": [
        "plt.plot (training_loss1)\n",
        "plt.plot (validation_loss1)"
      ],
      "execution_count": 16,
      "outputs": [
        {
          "output_type": "execute_result",
          "data": {
            "text/plain": [
              "[<matplotlib.lines.Line2D at 0x7fbc17da0588>]"
            ]
          },
          "metadata": {
            "tags": []
          },
          "execution_count": 16
        },
        {
          "output_type": "display_data",
          "data": {
            "image/png": "[encoded data removed]",
            "text/plain": [
              "<Figure size 432x288 with 1 Axes>"
            ]
          },
          "metadata": {
            "tags": [],
            "needs_background": "light"
          }
        }
      ]
    },
    {
      "cell_type": "code",
      "metadata": {
        "colab": {
          "base_uri": "https://localhost:8080/",
          "height": 282
        },
        "id": "XHhRLUkZE40J",
        "outputId": "7bd36838-2371-4b7c-ff1d-852c7f25a338"
      },
      "source": [
        "plt.plot(training_accuracy1)\n",
        "plt.plot(validation_accuracy1)"
      ],
      "execution_count": 17,
      "outputs": [
        {
          "output_type": "execute_result",
          "data": {
            "text/plain": [
              "[<matplotlib.lines.Line2D at 0x7fbc17d31128>]"
            ]
          },
          "metadata": {
            "tags": []
          },
          "execution_count": 17
        },
        {
          "output_type": "display_data",
          "data": {
            "image/png": "[encoded data removed]",
            "text/plain": [
              "<Figure size 432x288 with 1 Axes>"
            ]
          },
          "metadata": {
            "tags": [],
            "needs_background": "light"
          }
        }
      ]
    },
    {
      "cell_type": "code",
      "metadata": {
        "id": "5oFeFIarE8oU"
      },
      "source": [
        "criterion = FocalLoss()"
      ],
      "execution_count": 18,
      "outputs": []
    },
    {
      "cell_type": "code",
      "metadata": {
        "id": "3PIJJnvkbOx1"
      },
      "source": [
        "import numpy as np\n"
      ],
      "execution_count": 20,
      "outputs": []
    },
    {
      "cell_type": "code",
      "metadata": {
        "colab": {
          "base_uri": "https://localhost:8080/"
        },
        "id": "47bU61K-E8sj",
        "outputId": "18a37a95-d867-403f-a14a-0a5ee7fc5749"
      },
      "source": [
        "predicted = []\n",
        "total_correct = 0\n",
        "total_images = 0\n",
        "confusion_mat = np.zeros([200,200],int)              #inintializing the confusion matrix\n",
        "with torch.no_grad():\n",
        "    for inputs,labels in dataloaders['test1']:\n",
        "      inputs = inputs.to(device)\n",
        "      labels = labels.to(device)\n",
        "      outputs  = model(inputs)\n",
        "      loss = criterion(outputs,labels)\n",
        "      _,predicted = torch.max(outputs,1)\n",
        "\n",
        "      total_images += labels.size(0)\n",
        "      total_correct += (predicted == labels).sum().item()\n",
        "      for i, l in enumerate(labels):\n",
        "        confusion_mat[l.item(), predicted[i].item()] += 1          # Row = actual class , COl = predicted class                      \n",
        "\n",
        "model_accuracy = total_correct / total_images * 100\n",
        "print('Model accuracy on {0} test images: {1:.2f}%'.format(total_images, model_accuracy))"
      ],
      "execution_count": 21,
      "outputs": [
        {
          "output_type": "stream",
          "text": [
            "/usr/local/lib/python3.6/dist-packages/ipykernel_launcher.py:23: UserWarning: Implicit dimension choice for log_softmax has been deprecated. Change the call to include dim=X as an argument.\n"
          ],
          "name": "stderr"
        },
        {
          "output_type": "stream",
          "text": [
            "Model accuracy on 5000 test images: 72.58%\n"
          ],
          "name": "stdout"
        }
      ]
    },
    {
      "cell_type": "code",
      "metadata": {
        "id": "lEDnJRCnbNcm"
      },
      "source": [
        "def metric(y_focal): #this will return F-1 macros score\n",
        "    size=len(y_focal)\n",
        "    row_sum  =  y_focal.sum(axis=1)\n",
        "    col_sum  =  y_focal.sum(axis=0)\n",
        "    tp_i=[]\n",
        "    for i in range(size):\n",
        "      for j in range(size):\n",
        "        if i ==j :\n",
        "          tp_i.append(y_focal[i][j])\n",
        "    tp_i=np.array(tp_i) \n",
        "    precision=[]\n",
        "    recall=[]\n",
        "    for i in range(size): \n",
        "      precision.append(tp_i[i]/col_sum[i])   \n",
        "      recall.append(tp_i[i]/row_sum[i])   \n",
        "    pre = np.array(precision)\n",
        "    rec= np.array(recall)\n",
        "    macro_precision = pre.sum()/len(pre)\n",
        "    macro_recall = rec.sum()/len(rec)\n",
        "    num_f1 = 2 * (macro_precision * macro_recall)\n",
        "    den_f1 =  (macro_precision + macro_recall)\n",
        "    macro_f1_score = num_f1 / den_f1\n",
        "    return macro_f1_score, macro_precision"
      ],
      "execution_count": 22,
      "outputs": []
    },
    {
      "cell_type": "code",
      "metadata": {
        "colab": {
          "base_uri": "https://localhost:8080/"
        },
        "id": "VCTGScebcaik",
        "outputId": "2d48011a-0cbc-4d1a-bc74-d194de597723"
      },
      "source": [
        "focal_metric = metric(confusion_mat)\n",
        "print(focal_metric)"
      ],
      "execution_count": 23,
      "outputs": [
        {
          "output_type": "stream",
          "text": [
            "(0.7295993396755168, 0.7334386654141032)\n"
          ],
          "name": "stdout"
        }
      ]
    },
    {
      "cell_type": "code",
      "metadata": {
        "id": "oNcqLxXWcrlt"
      },
      "source": [
        ""
      ],
      "execution_count": null,
      "outputs": []
    }
  ]
}